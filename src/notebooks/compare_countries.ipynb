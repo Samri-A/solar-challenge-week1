{
 "cells": [
  {
   "cell_type": "code",
   "execution_count": 73,
   "id": "cfea5d70",
   "metadata": {},
   "outputs": [],
   "source": [
    "import pandas as pd\n",
    "import matplotlib.pyplot as plt\n",
    "import seaborn as sns\n",
    "from scipy.stats import kruskal"
   ]
  },
  {
   "cell_type": "code",
   "execution_count": 44,
   "id": "922230e2",
   "metadata": {},
   "outputs": [],
   "source": [
    "togo_df = pd.read_csv(\"../data/togo.csv\").set_index(\"Timestamp\")\n",
    "sierraleone_df = pd.read_csv(\"../data/sierraleone_clean.csv\").set_index(\"Timestamp\")\n",
    "benin_df = pd.read_csv(\"../data/benin-malanville_clean.csv\").set_index(\"Timestamp\")"
   ]
  },
  {
   "cell_type": "markdown",
   "id": "7d14d7be",
   "metadata": {},
   "source": [
    "# Global Horizontal Irradiance Across Country"
   ]
  },
  {
   "cell_type": "code",
   "execution_count": 61,
   "id": "8b81b729",
   "metadata": {},
   "outputs": [
    {
     "name": "stdout",
     "output_type": "stream",
     "text": [
      "                     GHI country\n",
      "Timestamp                       \n",
      "2021-10-25 00:01:00 -1.3    Togo\n",
      "2021-10-25 00:02:00 -1.3    Togo\n",
      "2021-10-25 00:03:00 -1.3    Togo\n",
      "2021-10-25 00:04:00 -1.2    Togo\n",
      "2021-10-25 00:05:00 -1.2    Togo\n",
      "                     GHI       country\n",
      "Timestamp                             \n",
      "2021-10-30 00:01:00 -0.7  Sierra Leone\n",
      "2021-10-30 00:02:00 -0.7  Sierra Leone\n",
      "2021-10-30 00:03:00 -0.7  Sierra Leone\n",
      "2021-10-30 00:04:00 -0.7  Sierra Leone\n",
      "2021-10-30 00:05:00 -0.7  Sierra Leone\n",
      "                     GHI country\n",
      "Timestamp                       \n",
      "2021-08-09 00:01:00 -1.2   Benin\n",
      "2021-08-09 00:02:00 -1.1   Benin\n",
      "2021-08-09 00:03:00 -1.1   Benin\n",
      "2021-08-09 00:04:00 -1.1   Benin\n",
      "2021-08-09 00:05:00 -1.0   Benin\n"
     ]
    }
   ],
   "source": [
    "togo_ghi_df = togo_df[[\"GHI\"]].copy()\n",
    "togo_ghi_df[\"country\"] = \"Togo\"\n",
    "print(togo_ghi_df.head())\n",
    "sierraleone_ghi_df = sierraleone_df[[\"GHI\"]].copy()\n",
    "sierraleone_ghi_df[\"country\"] = \"Sierra Leone\"\n",
    "print(sierraleone_ghi_df.head())\n",
    "benin_ghi_df = benin_df[[\"GHI\"]].copy()\n",
    "benin_ghi_df[\"country\"] = \"Benin\"\n",
    "print(benin_ghi_df.head())"
   ]
  },
  {
   "cell_type": "code",
   "execution_count": 52,
   "id": "b13173c3",
   "metadata": {},
   "outputs": [
    {
     "data": {
      "text/html": [
       "<div>\n",
       "<style scoped>\n",
       "    .dataframe tbody tr th:only-of-type {\n",
       "        vertical-align: middle;\n",
       "    }\n",
       "\n",
       "    .dataframe tbody tr th {\n",
       "        vertical-align: top;\n",
       "    }\n",
       "\n",
       "    .dataframe thead th {\n",
       "        text-align: right;\n",
       "    }\n",
       "</style>\n",
       "<table border=\"1\" class=\"dataframe\">\n",
       "  <thead>\n",
       "    <tr style=\"text-align: right;\">\n",
       "      <th></th>\n",
       "      <th>GHI</th>\n",
       "      <th>country</th>\n",
       "    </tr>\n",
       "    <tr>\n",
       "      <th>Timestamp</th>\n",
       "      <th></th>\n",
       "      <th></th>\n",
       "    </tr>\n",
       "  </thead>\n",
       "  <tbody>\n",
       "    <tr>\n",
       "      <th>2022-08-08 23:56:00</th>\n",
       "      <td>-5.5</td>\n",
       "      <td>Benin</td>\n",
       "    </tr>\n",
       "    <tr>\n",
       "      <th>2022-08-08 23:57:00</th>\n",
       "      <td>-5.5</td>\n",
       "      <td>Benin</td>\n",
       "    </tr>\n",
       "    <tr>\n",
       "      <th>2022-08-08 23:58:00</th>\n",
       "      <td>-5.5</td>\n",
       "      <td>Benin</td>\n",
       "    </tr>\n",
       "    <tr>\n",
       "      <th>2022-08-08 23:59:00</th>\n",
       "      <td>-5.5</td>\n",
       "      <td>Benin</td>\n",
       "    </tr>\n",
       "    <tr>\n",
       "      <th>2022-08-09 00:00:00</th>\n",
       "      <td>-5.5</td>\n",
       "      <td>Benin</td>\n",
       "    </tr>\n",
       "  </tbody>\n",
       "</table>\n",
       "</div>"
      ],
      "text/plain": [
       "                     GHI country\n",
       "Timestamp                       \n",
       "2022-08-08 23:56:00 -5.5   Benin\n",
       "2022-08-08 23:57:00 -5.5   Benin\n",
       "2022-08-08 23:58:00 -5.5   Benin\n",
       "2022-08-08 23:59:00 -5.5   Benin\n",
       "2022-08-09 00:00:00 -5.5   Benin"
      ]
     },
     "execution_count": 52,
     "metadata": {},
     "output_type": "execute_result"
    }
   ],
   "source": [
    "combined_ghi_df = pd.concat([togo_ghi_df, sierraleone_ghi_df, benin_ghi_df], axis=0)\n",
    "combined_ghi_df.tail()"
   ]
  },
  {
   "cell_type": "code",
   "execution_count": 57,
   "id": "4d3c95ff",
   "metadata": {},
   "outputs": [
    {
     "data": {
      "text/plain": [
       "<Axes: xlabel='country', ylabel='GHI'>"
      ]
     },
     "execution_count": 57,
     "metadata": {},
     "output_type": "execute_result"
    },
    {
     "data": {
      "image/png": "[encoded data removed]",
      "text/plain": [
       "<Figure size 640x480 with 1 Axes>"
      ]
     },
     "metadata": {},
     "output_type": "display_data"
    }
   ],
   "source": [
    "sns.boxplot( x= \"country\", y= \"GHI\" , data=combined_ghi_df , hue=\"country\")"
   ]
  },
  {
   "cell_type": "code",
   "execution_count": 20,
   "id": "11c856cf",
   "metadata": {},
   "outputs": [
    {
     "data": {
      "text/plain": [
       "count    525600.000000\n",
       "mean        219.956519\n",
       "std         315.850423\n",
       "min         -12.700000\n",
       "25%          -2.200000\n",
       "50%           2.100000\n",
       "75%         412.900000\n",
       "max        1198.000000\n",
       "Name: GHI, dtype: float64"
      ]
     },
     "execution_count": 20,
     "metadata": {},
     "output_type": "execute_result"
    }
   ],
   "source": [
    "#togo\n",
    "togo_df[\"GHI\"].describe()"
   ]
  },
  {
   "cell_type": "code",
   "execution_count": 21,
   "id": "21f664e5",
   "metadata": {},
   "outputs": [
    {
     "data": {
      "text/plain": [
       "count    525600.000000\n",
       "mean        232.782219\n",
       "std         327.083885\n",
       "min         -11.100000\n",
       "25%          -2.000000\n",
       "50%           1.800000\n",
       "75%         459.700000\n",
       "max        1233.000000\n",
       "Name: GHI, dtype: float64"
      ]
     },
     "execution_count": 21,
     "metadata": {},
     "output_type": "execute_result"
    }
   ],
   "source": [
    "#benin\n",
    "benin_df[\"GHI\"].describe()"
   ]
  },
  {
   "cell_type": "code",
   "execution_count": 22,
   "id": "a701551b",
   "metadata": {},
   "outputs": [
    {
     "data": {
      "text/plain": [
       "count    525600.000000\n",
       "mean        179.274886\n",
       "std         276.520057\n",
       "min         -15.900000\n",
       "25%          -2.700000\n",
       "50%           0.300000\n",
       "75%         316.700000\n",
       "max        1097.000000\n",
       "Name: GHI, dtype: float64"
      ]
     },
     "execution_count": 22,
     "metadata": {},
     "output_type": "execute_result"
    }
   ],
   "source": [
    "#sierraleone\n",
    "sierraleone_df[\"GHI\"].describe()"
   ]
  },
  {
   "cell_type": "code",
   "execution_count": 75,
   "id": "f593a670",
   "metadata": {},
   "outputs": [
    {
     "name": "stdout",
     "output_type": "stream",
     "text": [
      "One-Way Kruskal–Wallis Results:\n",
      "F-statistic: 6304.3113\n",
      "P-value: 0.0000e+00\n"
     ]
    }
   ],
   "source": [
    "\n",
    "togo_ghi = togo_df[\"GHI\"]\n",
    "sierraleone_ghi = sierraleone_df[\"GHI\"]\n",
    "benin_ghi = benin_df[\"GHI\"]\n",
    "\n",
    "# Run one-way Kruskal–Wallis\n",
    "f_stat, p_val = kruskal(togo_ghi, sierraleone_ghi, benin_ghi)\n",
    "\n",
    "print(\"One-Way Kruskal–Wallis Results:\")\n",
    "print(f\"F-statistic: {f_stat:.4f}\")\n",
    "print(f\"P-value: {p_val:.4e}\")\n"
   ]
  },
  {
   "cell_type": "code",
   "execution_count": 58,
   "id": "fd6ebbe5",
   "metadata": {},
   "outputs": [
    {
     "data": {
      "text/plain": [
       "Text(0.5, 1.0, 'Average GHI comparsion')"
      ]
     },
     "execution_count": 58,
     "metadata": {},
     "output_type": "execute_result"
    },
    {
     "data": {
      "image/png": "[encoded data removed]",
      "text/plain": [
       "<Figure size 640x480 with 1 Axes>"
      ]
     },
     "metadata": {},
     "output_type": "display_data"
    }
   ],
   "source": [
    "compare_GHI = [togo_df[\"GHI\"].mean() , sierraleone_df[\"GHI\"].mean()  , benin_df[\"GHI\"].mean() ]\n",
    "compare_GHI = pd.DataFrame(compare_GHI , index=[\"Togo\" , \"Sierra Leone\" , \"Benin\"] , columns=[\"GHI\"])\n",
    "compare_GHI = compare_GHI.sort_values(by=\"GHI\" , ascending=False)\n",
    "compare_GHI.plot(kind=\"bar\" , legend=False)\n",
    "plt.title(\"Average GHI comparsion\")"
   ]
  },
  {
   "cell_type": "markdown",
   "id": "8e62b659",
   "metadata": {},
   "source": [
    "# Direct Normal Irradiance"
   ]
  },
  {
   "cell_type": "code",
   "execution_count": 62,
   "id": "2ba9a781",
   "metadata": {},
   "outputs": [
    {
     "name": "stdout",
     "output_type": "stream",
     "text": [
      "                     DNI country\n",
      "Timestamp                       \n",
      "2021-10-25 00:01:00  0.0    Togo\n",
      "2021-10-25 00:02:00  0.0    Togo\n",
      "2021-10-25 00:03:00  0.0    Togo\n",
      "2021-10-25 00:04:00  0.0    Togo\n",
      "2021-10-25 00:05:00  0.0    Togo\n",
      "                     DNI       country\n",
      "Timestamp                             \n",
      "2021-10-30 00:01:00 -0.1  Sierra Leone\n",
      "2021-10-30 00:02:00 -0.1  Sierra Leone\n",
      "2021-10-30 00:03:00 -0.1  Sierra Leone\n",
      "2021-10-30 00:04:00  0.0  Sierra Leone\n",
      "2021-10-30 00:05:00 -0.1  Sierra Leone\n",
      "                     DNI country\n",
      "Timestamp                       \n",
      "2021-08-09 00:01:00 -0.2   Benin\n",
      "2021-08-09 00:02:00 -0.2   Benin\n",
      "2021-08-09 00:03:00 -0.2   Benin\n",
      "2021-08-09 00:04:00 -0.1   Benin\n",
      "2021-08-09 00:05:00 -0.1   Benin\n"
     ]
    }
   ],
   "source": [
    "togo_dni_df = togo_df[[\"DNI\"]].copy()\n",
    "togo_dni_df[\"country\"] = \"Togo\"\n",
    "print(togo_dni_df.head())\n",
    "sierraleone_dni_df = sierraleone_df[[\"DNI\"]].copy()\n",
    "sierraleone_dni_df[\"country\"] = \"Sierra Leone\"\n",
    "print(sierraleone_dni_df.head())\n",
    "benin_dni_df = benin_df[[\"DNI\"]].copy()\n",
    "benin_dni_df[\"country\"] = \"Benin\"\n",
    "print(benin_dni_df.head())"
   ]
  },
  {
   "cell_type": "code",
   "execution_count": 63,
   "id": "79b50620",
   "metadata": {},
   "outputs": [
    {
     "data": {
      "text/html": [
       "<div>\n",
       "<style scoped>\n",
       "    .dataframe tbody tr th:only-of-type {\n",
       "        vertical-align: middle;\n",
       "    }\n",
       "\n",
       "    .dataframe tbody tr th {\n",
       "        vertical-align: top;\n",
       "    }\n",
       "\n",
       "    .dataframe thead th {\n",
       "        text-align: right;\n",
       "    }\n",
       "</style>\n",
       "<table border=\"1\" class=\"dataframe\">\n",
       "  <thead>\n",
       "    <tr style=\"text-align: right;\">\n",
       "      <th></th>\n",
       "      <th>DNI</th>\n",
       "      <th>country</th>\n",
       "    </tr>\n",
       "    <tr>\n",
       "      <th>Timestamp</th>\n",
       "      <th></th>\n",
       "      <th></th>\n",
       "    </tr>\n",
       "  </thead>\n",
       "  <tbody>\n",
       "    <tr>\n",
       "      <th>2022-08-08 23:56:00</th>\n",
       "      <td>-0.1</td>\n",
       "      <td>Benin</td>\n",
       "    </tr>\n",
       "    <tr>\n",
       "      <th>2022-08-08 23:57:00</th>\n",
       "      <td>-0.1</td>\n",
       "      <td>Benin</td>\n",
       "    </tr>\n",
       "    <tr>\n",
       "      <th>2022-08-08 23:58:00</th>\n",
       "      <td>-0.1</td>\n",
       "      <td>Benin</td>\n",
       "    </tr>\n",
       "    <tr>\n",
       "      <th>2022-08-08 23:59:00</th>\n",
       "      <td>-0.1</td>\n",
       "      <td>Benin</td>\n",
       "    </tr>\n",
       "    <tr>\n",
       "      <th>2022-08-09 00:00:00</th>\n",
       "      <td>-0.1</td>\n",
       "      <td>Benin</td>\n",
       "    </tr>\n",
       "  </tbody>\n",
       "</table>\n",
       "</div>"
      ],
      "text/plain": [
       "                     DNI country\n",
       "Timestamp                       \n",
       "2022-08-08 23:56:00 -0.1   Benin\n",
       "2022-08-08 23:57:00 -0.1   Benin\n",
       "2022-08-08 23:58:00 -0.1   Benin\n",
       "2022-08-08 23:59:00 -0.1   Benin\n",
       "2022-08-09 00:00:00 -0.1   Benin"
      ]
     },
     "execution_count": 63,
     "metadata": {},
     "output_type": "execute_result"
    }
   ],
   "source": [
    "combined_dni_df = pd.concat([togo_dni_df, sierraleone_dni_df, benin_dni_df], axis=0)\n",
    "combined_dni_df.tail()"
   ]
  },
  {
   "cell_type": "code",
   "execution_count": 65,
   "id": "67aaf9bc",
   "metadata": {},
   "outputs": [
    {
     "data": {
      "text/plain": [
       "<Axes: xlabel='country', ylabel='DNI'>"
      ]
     },
     "execution_count": 65,
     "metadata": {},
     "output_type": "execute_result"
    },
    {
     "data": {
      "image/png": "[encoded data removed]",
      "text/plain": [
       "<Figure size 640x480 with 1 Axes>"
      ]
     },
     "metadata": {},
     "output_type": "display_data"
    }
   ],
   "source": [
    "sns.boxplot(x= \"country\", y= \"DNI\" , data=combined_dni_df , hue=\"country\")"
   ]
  },
  {
   "cell_type": "code",
   "execution_count": 34,
   "id": "0aeaa31e",
   "metadata": {},
   "outputs": [
    {
     "data": {
      "text/plain": [
       "count    525600.000000\n",
       "mean        145.371431\n",
       "std         246.264222\n",
       "min           0.000000\n",
       "25%           0.000000\n",
       "50%           0.000000\n",
       "75%         225.200000\n",
       "max         904.100000\n",
       "Name: DNI, dtype: float64"
      ]
     },
     "execution_count": 34,
     "metadata": {},
     "output_type": "execute_result"
    }
   ],
   "source": [
    "#togo\n",
    "togo_df[\"DNI\"].describe()"
   ]
  },
  {
   "cell_type": "code",
   "execution_count": 35,
   "id": "87d095ec",
   "metadata": {},
   "outputs": [
    {
     "data": {
      "text/plain": [
       "count    525600.000000\n",
       "mean        164.437476\n",
       "std         260.921667\n",
       "min          -7.800000\n",
       "25%          -0.500000\n",
       "50%          -0.100000\n",
       "75%         307.000000\n",
       "max         952.300000\n",
       "Name: DNI, dtype: float64"
      ]
     },
     "execution_count": 35,
     "metadata": {},
     "output_type": "execute_result"
    }
   ],
   "source": [
    "#benin\n",
    "benin_df[\"DNI\"].describe()"
   ]
  },
  {
   "cell_type": "code",
   "execution_count": 36,
   "id": "258bbb28",
   "metadata": {},
   "outputs": [
    {
     "data": {
      "text/plain": [
       "count    525600.000000\n",
       "mean        100.898163\n",
       "std         198.638232\n",
       "min          -7.800000\n",
       "25%          -0.300000\n",
       "50%          -0.100000\n",
       "75%          59.400000\n",
       "max         772.300000\n",
       "Name: DNI, dtype: float64"
      ]
     },
     "execution_count": 36,
     "metadata": {},
     "output_type": "execute_result"
    }
   ],
   "source": [
    "#sierraleone\n",
    "sierraleone_df[\"DNI\"].describe()"
   ]
  },
  {
   "cell_type": "code",
   "execution_count": 76,
   "id": "bade9b9e",
   "metadata": {},
   "outputs": [
    {
     "name": "stdout",
     "output_type": "stream",
     "text": [
      "One-Way Kruskal–Wallis Results:\n",
      "F-statistic: 105487.2313\n",
      "P-value: 0.0000e+00\n"
     ]
    }
   ],
   "source": [
    "togo_dni= togo_df[\"DNI\"]\n",
    "sierraleone_dni = sierraleone_df[\"DNI\"]\n",
    "benin_dni = benin_df[\"DNI\"]\n",
    "\n",
    "# Run one-way Kruskal–Wallis\n",
    "f_stat, p_val = kruskal(togo_dni, sierraleone_dni, benin_dni)\n",
    "\n",
    "print(\"One-Way Kruskal–Wallis Results:\")\n",
    "print(f\"F-statistic: {f_stat:.4f}\")\n",
    "print(f\"P-value: {p_val:.4e}\")\n"
   ]
  },
  {
   "cell_type": "markdown",
   "id": "aff67068",
   "metadata": {},
   "source": [
    "# Diffuse Horizontal Irradiance"
   ]
  },
  {
   "cell_type": "code",
   "execution_count": 66,
   "id": "377f00a2",
   "metadata": {},
   "outputs": [
    {
     "name": "stdout",
     "output_type": "stream",
     "text": [
      "                     DHI country\n",
      "Timestamp                       \n",
      "2021-10-25 00:01:00  0.0    Togo\n",
      "2021-10-25 00:02:00  0.0    Togo\n",
      "2021-10-25 00:03:00  0.0    Togo\n",
      "2021-10-25 00:04:00  0.0    Togo\n",
      "2021-10-25 00:05:00  0.0    Togo\n",
      "                     DHI       country\n",
      "Timestamp                             \n",
      "2021-10-30 00:01:00 -0.8  Sierra Leone\n",
      "2021-10-30 00:02:00 -0.8  Sierra Leone\n",
      "2021-10-30 00:03:00 -0.8  Sierra Leone\n",
      "2021-10-30 00:04:00 -0.8  Sierra Leone\n",
      "2021-10-30 00:05:00 -0.8  Sierra Leone\n",
      "                     DHI country\n",
      "Timestamp                       \n",
      "2021-08-09 00:01:00 -1.1   Benin\n",
      "2021-08-09 00:02:00 -1.1   Benin\n",
      "2021-08-09 00:03:00 -1.1   Benin\n",
      "2021-08-09 00:04:00 -1.0   Benin\n",
      "2021-08-09 00:05:00 -1.0   Benin\n"
     ]
    }
   ],
   "source": [
    "togo_dhi_df = togo_df[[\"DHI\"]].copy()\n",
    "togo_dhi_df[\"country\"] = \"Togo\"\n",
    "print(togo_dhi_df.head())\n",
    "sierraleone_dhi_df = sierraleone_df[[\"DHI\"]].copy()\n",
    "sierraleone_dhi_df[\"country\"] = \"Sierra Leone\"\n",
    "print(sierraleone_dhi_df.head())\n",
    "benin_dhi_df = benin_df[[\"DHI\"]].copy()\n",
    "benin_dhi_df[\"country\"] = \"Benin\"\n",
    "print(benin_dhi_df.head())"
   ]
  },
  {
   "cell_type": "code",
   "execution_count": 67,
   "id": "4c657fa0",
   "metadata": {},
   "outputs": [
    {
     "data": {
      "text/html": [
       "<div>\n",
       "<style scoped>\n",
       "    .dataframe tbody tr th:only-of-type {\n",
       "        vertical-align: middle;\n",
       "    }\n",
       "\n",
       "    .dataframe tbody tr th {\n",
       "        vertical-align: top;\n",
       "    }\n",
       "\n",
       "    .dataframe thead th {\n",
       "        text-align: right;\n",
       "    }\n",
       "</style>\n",
       "<table border=\"1\" class=\"dataframe\">\n",
       "  <thead>\n",
       "    <tr style=\"text-align: right;\">\n",
       "      <th></th>\n",
       "      <th>DHI</th>\n",
       "      <th>country</th>\n",
       "    </tr>\n",
       "    <tr>\n",
       "      <th>Timestamp</th>\n",
       "      <th></th>\n",
       "      <th></th>\n",
       "    </tr>\n",
       "  </thead>\n",
       "  <tbody>\n",
       "    <tr>\n",
       "      <th>2022-08-08 23:56:00</th>\n",
       "      <td>-5.9</td>\n",
       "      <td>Benin</td>\n",
       "    </tr>\n",
       "    <tr>\n",
       "      <th>2022-08-08 23:57:00</th>\n",
       "      <td>-5.8</td>\n",
       "      <td>Benin</td>\n",
       "    </tr>\n",
       "    <tr>\n",
       "      <th>2022-08-08 23:58:00</th>\n",
       "      <td>-5.8</td>\n",
       "      <td>Benin</td>\n",
       "    </tr>\n",
       "    <tr>\n",
       "      <th>2022-08-08 23:59:00</th>\n",
       "      <td>-5.8</td>\n",
       "      <td>Benin</td>\n",
       "    </tr>\n",
       "    <tr>\n",
       "      <th>2022-08-09 00:00:00</th>\n",
       "      <td>-5.7</td>\n",
       "      <td>Benin</td>\n",
       "    </tr>\n",
       "  </tbody>\n",
       "</table>\n",
       "</div>"
      ],
      "text/plain": [
       "                     DHI country\n",
       "Timestamp                       \n",
       "2022-08-08 23:56:00 -5.9   Benin\n",
       "2022-08-08 23:57:00 -5.8   Benin\n",
       "2022-08-08 23:58:00 -5.8   Benin\n",
       "2022-08-08 23:59:00 -5.8   Benin\n",
       "2022-08-09 00:00:00 -5.7   Benin"
      ]
     },
     "execution_count": 67,
     "metadata": {},
     "output_type": "execute_result"
    }
   ],
   "source": [
    "combined_dhi_df = pd.concat([togo_dhi_df, sierraleone_dhi_df, benin_dhi_df], axis=0)\n",
    "combined_dhi_df.tail()"
   ]
  },
  {
   "cell_type": "code",
   "execution_count": 69,
   "id": "4a40e55d",
   "metadata": {},
   "outputs": [
    {
     "data": {
      "text/plain": [
       "<Axes: xlabel='country', ylabel='DHI'>"
      ]
     },
     "execution_count": 69,
     "metadata": {},
     "output_type": "execute_result"
    },
    {
     "data": {
      "image/png": "[encoded data removed]",
      "text/plain": [
       "<Figure size 640x480 with 1 Axes>"
      ]
     },
     "metadata": {},
     "output_type": "display_data"
    }
   ],
   "source": [
    "sns.boxplot(x= \"country\", y= \"DHI\" , data=combined_dhi_df , hue=\"country\" , legend=True)"
   ]
  },
  {
   "cell_type": "code",
   "execution_count": 40,
   "id": "a7a4dada",
   "metadata": {},
   "outputs": [
    {
     "data": {
      "text/plain": [
       "count    525600.000000\n",
       "mean        110.840206\n",
       "std         150.930197\n",
       "min           0.000000\n",
       "25%           0.000000\n",
       "50%           2.500000\n",
       "75%         207.700000\n",
       "max         586.000000\n",
       "Name: DHI, dtype: float64"
      ]
     },
     "execution_count": 40,
     "metadata": {},
     "output_type": "execute_result"
    }
   ],
   "source": [
    "#togo\n",
    "togo_df[\"DHI\"].describe()"
   ]
  },
  {
   "cell_type": "code",
   "execution_count": 41,
   "id": "d23216f3",
   "metadata": {},
   "outputs": [
    {
     "data": {
      "text/plain": [
       "count    525600.000000\n",
       "mean        110.035783\n",
       "std         152.545413\n",
       "min         -12.600000\n",
       "25%          -2.100000\n",
       "50%           1.600000\n",
       "75%         209.000000\n",
       "max         591.400000\n",
       "Name: DHI, dtype: float64"
      ]
     },
     "execution_count": 41,
     "metadata": {},
     "output_type": "execute_result"
    }
   ],
   "source": [
    "#benin\n",
    "benin_df[\"DHI\"].describe()"
   ]
  },
  {
   "cell_type": "code",
   "execution_count": 42,
   "id": "1630a19f",
   "metadata": {},
   "outputs": [
    {
     "data": {
      "text/plain": [
       "count    525600.000000\n",
       "mean        104.750275\n",
       "std         152.448886\n",
       "min         -16.700000\n",
       "25%          -3.800000\n",
       "50%          -0.100000\n",
       "75%         211.600000\n",
       "max         590.500000\n",
       "Name: DHI, dtype: float64"
      ]
     },
     "execution_count": 42,
     "metadata": {},
     "output_type": "execute_result"
    }
   ],
   "source": [
    "#sierraleone\n",
    "sierraleone_df[\"DHI\"].describe()"
   ]
  },
  {
   "cell_type": "code",
   "execution_count": 77,
   "id": "a03d8ded",
   "metadata": {},
   "outputs": [
    {
     "name": "stdout",
     "output_type": "stream",
     "text": [
      "One-Way Kruskal–Wallis Results:\n",
      "F-statistic: 75282.4407\n",
      "P-value: 0.0000e+00\n"
     ]
    }
   ],
   "source": [
    "togo_DHI= togo_df[\"DHI\"]\n",
    "sierraleone_DHI = sierraleone_df[\"DHI\"]\n",
    "benin_DHI = benin_df[\"DHI\"]\n",
    "\n",
    "# Run one-way Kruskal–Wallis\n",
    "f_stat, p_val = kruskal(togo_DHI, sierraleone_DHI, benin_DHI)\n",
    "\n",
    "print(\"One-Way Kruskal–Wallis Results:\")\n",
    "print(f\"F-statistic: {f_stat:.4f}\")\n",
    "print(f\"P-value: {p_val:.4e}\")\n"
   ]
  },
  {
   "cell_type": "code",
   "execution_count": null,
   "id": "35706793",
   "metadata": {},
   "outputs": [],
   "source": []
  }
 ],
 "metadata": {
  "kernelspec": {
   "display_name": "venv",
   "language": "python",
   "name": "python3"
  },
  "language_info": {
   "codemirror_mode": {
    "name": "ipython",
    "version": 3
   },
   "file_extension": ".py",
   "mimetype": "text/x-python",
   "name": "python",
   "nbconvert_exporter": "python",
   "pygments_lexer": "ipython3",
   "version": "3.13.3"
  }
 },
 "nbformat": 4,
 "nbformat_minor": 5
}
